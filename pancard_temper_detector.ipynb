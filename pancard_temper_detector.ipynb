{
  "nbformat": 4,
  "nbformat_minor": 0,
  "metadata": {
    "colab": {
      "name": "pancard temper detector.ipynb",
      "provenance": [],
      "authorship_tag": "ABX9TyNbJb22qpwPo93uyP47cvm6",
      "include_colab_link": true
    },
    "kernelspec": {
      "name": "python3",
      "display_name": "Python 3"
    },
    "language_info": {
      "name": "python"
    }
  },
  "cells": [
    {
      "cell_type": "markdown",
      "metadata": {
        "id": "view-in-github",
        "colab_type": "text"
      },
      "source": [
        "<a href=\"https://colab.research.google.com/github/usUpal/pancard-tempering-detector/blob/main/pancard_temper_detector.ipynb\" target=\"_parent\"><img src=\"https://colab.research.google.com/assets/colab-badge.svg\" alt=\"Open In Colab\"/></a>"
      ]
    },
    {
      "cell_type": "markdown",
      "metadata": {
        "id": "8AvZFpdPySHy"
      },
      "source": [
        "# Pancard Temper Detector"
      ]
    },
    {
      "cell_type": "code",
      "metadata": {
        "id": "aw4hzaTZyNur"
      },
      "source": [
        "# import \n",
        "from skimage.metrics import structural_similarity\n",
        "import imutils\n",
        "import cv2\n",
        "from PIL import Image\n",
        "import requests"
      ],
      "execution_count": 1,
      "outputs": []
    },
    {
      "cell_type": "code",
      "metadata": {
        "colab": {
          "base_uri": "https://localhost:8080/"
        },
        "id": "wDusJ2JryddJ",
        "outputId": "e72158f6-4b39-4733-9902-617aca80b32e"
      },
      "source": [
        "!mkdir pan_card_tempering\n",
        "!mkdir pan_card_tempering/image"
      ],
      "execution_count": 2,
      "outputs": [
        {
          "output_type": "stream",
          "text": [
            "mkdir: cannot create directory ‘pan_card_tempering’: File exists\n",
            "mkdir: cannot create directory ‘pan_card_tempering/image’: File exists\n"
          ],
          "name": "stdout"
        }
      ]
    },
    {
      "cell_type": "code",
      "metadata": {
        "id": "Oyc3LIUpy07P"
      },
      "source": [
        "# open image and display\n",
        "original = Image.open(requests.get('https://www.thestatesman.com/wp-content/uploads/2019/07/pan-card.jpg',stream = True).raw)\n",
        "tempered = Image.open(requests.get('https://assets1.cleartax-cdn.com/s/img/20170526124335/Pan4.png',stream = True).raw)"
      ],
      "execution_count": 4,
      "outputs": []
    },
    {
      "cell_type": "markdown",
      "metadata": {
        "id": "YaMAlCBW081X"
      },
      "source": [
        ""
      ]
    },
    {
      "cell_type": "code",
      "metadata": {
        "colab": {
          "base_uri": "https://localhost:8080/"
        },
        "id": "8HclRL4P0mkp",
        "outputId": "5eda9e7f-4fb7-4f03-e268-36b006ccbf2c"
      },
      "source": [
        "# loading original and user provided images\n",
        "\n",
        "# the file format of the source file\n",
        "print(f'original image format: {original.format}')\n",
        "print(f'tempered image format: {tempered.format}')\n",
        "\n",
        "# Image Size in pixels, the size is given as a 2 touples(width, heights)\n",
        "print(f'original image size: {original.size}')\n",
        "print(f'tempered image size: {tempered.size}')"
      ],
      "execution_count": 5,
      "outputs": [
        {
          "output_type": "stream",
          "text": [
            "original image format: JPEG\n",
            "tempered image format: PNG\n",
            "original image size: (1200, 800)\n",
            "tempered image size: (282, 179)\n"
          ],
          "name": "stdout"
        }
      ]
    },
    {
      "cell_type": "code",
      "metadata": {
        "id": "atEL7qCN1tge"
      },
      "source": [
        ""
      ],
      "execution_count": null,
      "outputs": []
    }
  ]
}