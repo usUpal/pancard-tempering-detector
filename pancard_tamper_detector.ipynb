{
  "nbformat": 4,
  "nbformat_minor": 0,
  "metadata": {
    "colab": {
      "name": "pancard tamper detector.ipynb",
      "provenance": [],
      "authorship_tag": "ABX9TyOpEk8fll1iWnJ7U6WTDq0r",
      "include_colab_link": true
    },
    "kernelspec": {
      "name": "python3",
      "display_name": "Python 3"
    },
    "language_info": {
      "name": "python"
    }
  },
  "cells": [
    {
      "cell_type": "markdown",
      "metadata": {
        "id": "view-in-github",
        "colab_type": "text"
      },
      "source": [
        "<a href=\"https://colab.research.google.com/github/usUpal/pancard-tempering-detector/blob/main/pancard_tamper_detector.ipynb\" target=\"_parent\"><img src=\"https://colab.research.google.com/assets/colab-badge.svg\" alt=\"Open In Colab\"/></a>"
      ]
    },
    {
      "cell_type": "markdown",
      "metadata": {
        "id": "8AvZFpdPySHy"
      },
      "source": [
        "# Pancard Tamper Detector"
      ]
    },
    {
      "cell_type": "markdown",
      "metadata": {
        "id": "kPT1NuZqHlDq"
      },
      "source": [
        "#### The purpose of this project is to detect tampering of PAN card using computer vision. This project will help different organization in detecting whether the Id i.e. the PAN card provided to them by thier employees or customers or anyone is original or not."
      ]
    },
    {
      "cell_type": "markdown",
      "metadata": {
        "id": "D12CCqEjHqIr"
      },
      "source": [
        "#### For this project we will calculate structural similarity of original PAN card and the PAN card uploaded by user."
      ]
    },
    {
      "cell_type": "code",
      "metadata": {
        "id": "aw4hzaTZyNur"
      },
      "source": [
        "# import \n",
        "from skimage.metrics import structural_similarity\n",
        "import imutils\n",
        "import cv2\n",
        "from PIL import Image\n",
        "import requests"
      ],
      "execution_count": null,
      "outputs": []
    },
    {
      "cell_type": "code",
      "metadata": {
        "id": "wDusJ2JryddJ"
      },
      "source": [
        "!mkdir pan_card_tampering\n",
        "!mkdir pan_card_tampering/image"
      ],
      "execution_count": null,
      "outputs": []
    },
    {
      "cell_type": "code",
      "metadata": {
        "id": "Oyc3LIUpy07P"
      },
      "source": [
        "# open image and display\n",
        "original = Image.open(requests.get('https://www.thestatesman.com/wp-content/uploads/2019/07/pan-card.jpg',stream = True).raw)\n",
        "tampered = Image.open(requests.get('https://assets1.cleartax-cdn.com/s/img/20170526124335/Pan4.png',stream = True).raw)"
      ],
      "execution_count": null,
      "outputs": []
    },
    {
      "cell_type": "markdown",
      "metadata": {
        "id": "YaMAlCBW081X"
      },
      "source": [
        "#### Loading original and user provided images."
      ]
    },
    {
      "cell_type": "code",
      "metadata": {
        "id": "8HclRL4P0mkp"
      },
      "source": [
        "# loading original and user provided images\n",
        "\n",
        "# the file format of the source file\n",
        "print(f'original image format: {original.format}')\n",
        "print(f'tampered image format: {tampered.format}')\n",
        "\n",
        "# Image Size in pixels, the size is given as a 2 touples(width, heights)\n",
        "print(f'original image size: {original.size}')\n",
        "print(f'tampered image size: {tampered.size}')"
      ],
      "execution_count": null,
      "outputs": []
    },
    {
      "cell_type": "markdown",
      "metadata": {
        "id": "oZ5NFb_ILxV2"
      },
      "source": [
        "#### Converting the format of  tampered image similar to original image."
      ]
    },
    {
      "cell_type": "code",
      "metadata": {
        "id": "atEL7qCN1tge"
      },
      "source": [
        "# image resize\n",
        "original = original.resize((250,160))\n",
        "print(original.size)\n",
        "tampered = tampered.resize((250, 160))\n",
        "print(tampered.size)"
      ],
      "execution_count": null,
      "outputs": []
    },
    {
      "cell_type": "code",
      "metadata": {
        "id": "w3IKa74X3d2v"
      },
      "source": [
        "# save the images\n",
        "original.save('/content/pan_card_tampering/image/original.png')\n",
        "tampered.save('/content/pan_card_tampering/image/tampered.png')"
      ],
      "execution_count": null,
      "outputs": []
    },
    {
      "cell_type": "markdown",
      "metadata": {
        "id": "0oJVPGaGL3jl"
      },
      "source": [
        "####  Here, we checked the format and size of the original and tampered image."
      ]
    },
    {
      "cell_type": "code",
      "metadata": {
        "id": "PbzPkEu433El"
      },
      "source": [
        "# # changing image format(optional)\n",
        "# tempered = Image.open('pan_card_tempering/image/tampered.png')\n",
        "# tempered.save('/content/pan_card_tempering/image/tampered.png')\n"
      ],
      "execution_count": null,
      "outputs": []
    },
    {
      "cell_type": "code",
      "metadata": {
        "id": "8vKSX8jK4hR9"
      },
      "source": [
        "original"
      ],
      "execution_count": null,
      "outputs": []
    },
    {
      "cell_type": "code",
      "metadata": {
        "id": "iR8CJ4QZ4uUE"
      },
      "source": [
        "tampered"
      ],
      "execution_count": null,
      "outputs": []
    },
    {
      "cell_type": "code",
      "metadata": {
        "id": "0RYcMkH54vz8"
      },
      "source": [
        "# cv2\n",
        "original = cv2.imread('/content/pan_card_tampering/image/original.png')\n",
        "tampered = cv2.imread('/content/pan_card_tampering/image/tampered.png')"
      ],
      "execution_count": null,
      "outputs": []
    },
    {
      "cell_type": "markdown",
      "metadata": {
        "id": "HhQEGdrzL9if"
      },
      "source": [
        "#### Converting the size of tampered and original image."
      ]
    },
    {
      "cell_type": "code",
      "metadata": {
        "id": "u2nxNa6Y5bbc"
      },
      "source": [
        "# convert the image into greyscale\n",
        "original_grey = cv2.cvtColor(original, cv2.COLOR_BGR2GRAY)\n",
        "tampered_grey = cv2.cvtColor(tampered, cv2.COLOR_BGR2GRAY)"
      ],
      "execution_count": null,
      "outputs": []
    },
    {
      "cell_type": "code",
      "metadata": {
        "id": "xK1hmfonKzbY"
      },
      "source": [
        "original_grey.size"
      ],
      "execution_count": null,
      "outputs": []
    },
    {
      "cell_type": "markdown",
      "metadata": {
        "id": "AZC79UzaL-Fy"
      },
      "source": [
        ""
      ]
    },
    {
      "cell_type": "code",
      "metadata": {
        "id": "EsoPF5nyK3tP"
      },
      "source": [
        "tampered_grey.size"
      ],
      "execution_count": null,
      "outputs": []
    },
    {
      "cell_type": "markdown",
      "metadata": {
        "id": "ZmMZMY8yMCTf"
      },
      "source": [
        "#### Converting images into grayscale using opencv. Because in image processing many applications doesn't help us in identifying the important, edges of the coloured images also coloured images are bit complex to understand by machine beacuse they have 3 channel while grayscale has only 1 channel.  "
      ]
    },
    {
      "cell_type": "code",
      "metadata": {
        "id": "uCo2mihG5lus"
      },
      "source": [
        "(score,diff) = structural_similarity(original_grey, tampered_grey, full=True)\n",
        "diff= (diff * 255).astype('uint8')\n",
        "print(f\"SSIM: {score}\" )"
      ],
      "execution_count": null,
      "outputs": []
    },
    {
      "cell_type": "markdown",
      "metadata": {
        "id": "g4GB_H6tMGjY"
      },
      "source": [
        "#### Structural similarity index helps us to determine exactly where in terms of x,y coordinates location, the image differences are. Here, we are trying to find similarities between the original and tampered image. The lower the SSIM score lower is the similarity."
      ]
    },
    {
      "cell_type": "code",
      "metadata": {
        "id": "LGbYilL0_mGT"
      },
      "source": [
        "# calculate thresholds and contours\n",
        "thresh = cv2.threshold(diff, 0, 255, cv2.THRESH_BINARY_INV | cv2.THRESH_OTSU)[1]\n",
        "cnts = cv2.findContours(thresh.copy(), cv2.RETR_EXTERNAL, cv2.CHAIN_APPROX_SIMPLE)\n",
        "cnts = imutils.grab_contours(cnts)"
      ],
      "execution_count": null,
      "outputs": []
    },
    {
      "cell_type": "markdown",
      "metadata": {
        "id": "kn-KSSAwMKBm"
      },
      "source": [
        "#### Here we are using the threshold function of computer vision which applies an adaptive threshold to the image which is stored in the form array. This function transforms the grayscale image into a binary image using a mathematical formula.\n",
        "#### Find contours works on binary image and retrive the contours. This contours are a useful tool for shape analysis and recoginition. Grab contours grabs the appropriate value of the contours."
      ]
    },
    {
      "cell_type": "code",
      "metadata": {
        "id": "ap2l5UKPBzzR"
      },
      "source": [
        "# loop over contours\n",
        "for c in cnts:\n",
        "  #applying contours on image\n",
        "  (x,y,w,h) = cv2.boundingRect(c)\n",
        "  cv2.rectangle(original, (x,y), (x+w, y+h), (0, 0, 225), 2)\n",
        "  cv2.rectangle(tampered, (x,y), (x+w, y+h), (0, 0, 225), 2)"
      ],
      "execution_count": null,
      "outputs": []
    },
    {
      "cell_type": "code",
      "metadata": {
        "id": "iHz4ZdnRC2KJ"
      },
      "source": [
        "# display original with contour\n",
        "print('original image format')\n",
        "Image.fromarray(original)"
      ],
      "execution_count": null,
      "outputs": []
    },
    {
      "cell_type": "code",
      "metadata": {
        "id": "Wi8sAZrjDOCB"
      },
      "source": [
        "# display tempered with contour\n",
        "print('Tampered image format')\n",
        "Image.fromarray(tampered)"
      ],
      "execution_count": null,
      "outputs": []
    },
    {
      "cell_type": "code",
      "metadata": {
        "id": "A6e4Cor9DhLY"
      },
      "source": [
        "# display difference image with black\n",
        "print('Different Image')\n",
        "Image.fromarray(diff)"
      ],
      "execution_count": null,
      "outputs": []
    },
    {
      "cell_type": "code",
      "metadata": {
        "id": "rO1oyHZaEAeY"
      },
      "source": [
        "# display threshold image with white\n",
        "print('Threshold Image')\n",
        "Image.fromarray(thresh)"
      ],
      "execution_count": null,
      "outputs": []
    },
    {
      "cell_type": "markdown",
      "metadata": {
        "id": "jBArt2u4MPU_"
      },
      "source": [
        "# Summary\n",
        "#### Finding out structural similarity of the images helped us in finding the difference or similarity in the shape of the images. Similarly, finding out the threshold and contours based on those threshold for the images converted into grayscale binary also helped us in shape analysis and recognition. \n",
        "#### As, our SSIM is ~31.2% we can say that the image user provided is fake or tampered.\n",
        "#### Finally we visualized the differences and similarities between the images using by displaying the images with contours, difference and threshold.  "
      ]
    },
    {
      "cell_type": "markdown",
      "metadata": {
        "id": "ZeKCAH22MWTn"
      },
      "source": [
        "# Scope\n",
        "#### This project can be used in different organizations where customers or users need to provide any kind of id in order to get themselves verified. The organization can use this project to find out whether the ID is original or fake. Similarly this can be used for any type of ID like adhar, voter id, etc."
      ]
    },
    {
      "cell_type": "code",
      "metadata": {
        "id": "kqB-vniCEYd4"
      },
      "source": [
        ""
      ],
      "execution_count": null,
      "outputs": []
    }
  ]
}